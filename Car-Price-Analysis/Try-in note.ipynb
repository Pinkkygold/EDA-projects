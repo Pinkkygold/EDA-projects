{
 "cells": [
  {
   "cell_type": "code",
   "execution_count": null,
   "id": "b284fa08",
   "metadata": {},
   "outputs": [],
   "source": [
    "# Fuction for unit conversion\n",
    "# kmpl = km/kg by ~1.33\n",
    "\n",
    "\n",
    "def unit_conversion(mileage, unit):\n",
    "    if unit == 'km/kg':\n",
    "        return unit * 1.33\n",
    "    else:\n",
    "        return mileage\n",
    "\n",
    "\n",
    "df['Mileage(kmpl)'] = df.apply(lambda x: unit_conversion(x['Mileage(kmpl)'], x['Unit']), axis=1) "
   ]
  },
  {
   "cell_type": "code",
   "execution_count": null,
   "id": "f0048b85",
   "metadata": {},
   "outputs": [],
   "source": []
  },
  {
   "cell_type": "code",
   "execution_count": null,
   "id": "90a4df69",
   "metadata": {},
   "outputs": [],
   "source": []
  },
  {
   "cell_type": "code",
   "execution_count": null,
   "id": "587fa7b7",
   "metadata": {},
   "outputs": [],
   "source": []
  },
  {
   "cell_type": "code",
   "execution_count": null,
   "id": "88632c3b",
   "metadata": {},
   "outputs": [],
   "source": []
  }
 ],
 "metadata": {
  "kernelspec": {
   "display_name": ".venv",
   "language": "python",
   "name": "python3"
  },
  "language_info": {
   "name": "python",
   "version": "3.13.1"
  }
 },
 "nbformat": 4,
 "nbformat_minor": 5
}
